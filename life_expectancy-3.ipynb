{
 "cells": [
  {
   "cell_type": "markdown",
   "metadata": {},
   "source": [
    "# Heart Failure"
   ]
  },
  {
   "cell_type": "code",
   "execution_count": null,
   "metadata": {},
   "outputs": [],
   "source": [
    "# Import Dependencies \n",
    "import matplotlib.pyplot as plt\n",
    "import numpy as np\n",
    "import pandas as pd\n",
    "import scipy.stats as st\n",
    "from scipy.stats import linregress"
   ]
  },
  {
   "cell_type": "code",
   "execution_count": null,
   "metadata": {},
   "outputs": [],
   "source": [
    "# Creating dataframes\n",
    "fic_df = pd.read_csv(\"Resources/FIC.Full CSV.csv\")\n",
    "cause_df = pd.read_csv(\"Resources/cause_of_deaths.csv\")\n",
    "\n",
    "fic_df.head()"
   ]
  },
  {
   "cell_type": "code",
   "execution_count": null,
   "metadata": {},
   "outputs": [],
   "source": [
    "# Get dataframe column values\n",
    "fic_df.columns"
   ]
  },
  {
   "cell_type": "code",
   "execution_count": null,
   "metadata": {},
   "outputs": [],
   "source": [
    "# Cleaning the data columns\n",
    "fic_df.rename(columns={'Age.Group': 'Age Group', 'Locality  ': 'Locality',\n",
    "                                'Marital status                       ': 'Marital Status',\n",
    "                                'Life.Style                                                                              ': 'Life Style',\n",
    "                                'Hyperlip': 'Hyperlipidemia', 'Family.History': 'Family History',\n",
    "                                'HTN': 'Hypertension', 'BP': 'Blood Pressure', 'BGR': 'Blood Glucose Level', 'B.urea': 'Blood Urea Nitrogen',\n",
    "                                'S.Cr': 'Serum Creatinine', 'S.Sodium': 'Serum Sodium', 'S.Potassium': 'Serum Potassium', 'Hyperlipi': 'Hyperlipidemia',\n",
    "                                'S.Chloride': 'Serum Chloride', 'CPK': 'Creatine Phosphokinase', 'CK.MB': 'Creatine Kinase-MB',\n",
    "                                'ESR': 'Erythrocyte Sedimentation Rate', 'WBC': 'White Blood Cell', 'RBC': 'Red Blood Cell', 'P.C.V': 'Packed Cell Volume',\n",
    "                                'M.C.V': 'Mean Corpuscular Volume', 'M.C.H': 'Mean Corpuscular Hemoglobin', 'M.C.H.C': 'Mean Corpuscular Hemoglobin Concentration',\n",
    "                                'PLATELET_COUNT': 'Platelet Count', 'NEUTROPHIL': 'Neutrophil', 'LYMPHO': 'Lymphocytes', 'MONOCYTE': 'Monocyte', 'EOSINO': 'Eosinophils',\n",
    "                                'CO': 'Cardiac Output', 'cp': 'Constrictive Pericarditis', 'trestbps': 'Resting Blood Pressure', 'chol': 'Cholesterol',\n",
    "                                'fbs': 'Fasting Blood Sugar', 'restecg': 'Rest ECG', 'ca': 'Cardiac Arrest', 'thal': 'Thalassemia', 'num': 'Num', 'Follow.Up': 'Follow Up'}, inplace= True)\n",
    "\n"
   ]
  },
  {
   "cell_type": "code",
   "execution_count": null,
   "metadata": {},
   "outputs": [],
   "source": [
    "# Show cleaned up dataframe\n",
    "fic_df.head()"
   ]
  },
  {
   "cell_type": "code",
   "execution_count": null,
   "metadata": {},
   "outputs": [],
   "source": [
    "# Show cleaned up columns to verify\n",
    "fic_df.columns"
   ]
  },
  {
   "cell_type": "code",
   "execution_count": null,
   "metadata": {},
   "outputs": [],
   "source": [
    "# Get values within certain columns for medical conditions\n",
    "medical_history = fic_df[['Depression', 'Hyperlipidemia',\n",
    "       'Diabetes', 'Hypertension', 'Allergies',\n",
    "       'Thrombolysis', 'Hemoglobin',\n",
    "       'Hypersensitivity', 'Mortality']]\n",
    "\n",
    "# Showing the new Dataframe\n",
    "medical_history.head()"
   ]
  },
  {
   "cell_type": "code",
   "execution_count": null,
   "metadata": {},
   "outputs": [],
   "source": [
    "# Gather mortality count per medical condition\n",
    "depression = medical_history[['Depression', 'Mortality']].value_counts()\n",
    "hyperlipidemia = medical_history[['Hyperlipidemia', 'Mortality']].value_counts()\n",
    "diabetes = medical_history[['Diabetes', 'Mortality']].value_counts()\n",
    "htn = medical_history[['Hypertension', 'Mortality']].value_counts()\n",
    "allergies = medical_history[['Allergies', 'Mortality']].value_counts()\n",
    "throm = medical_history[['Thrombolysis', 'Mortality']].value_counts()\n",
    "hypers = medical_history[['Hypersensitivity', 'Mortality']].value_counts()\n",
    "\n",
    "htn"
   ]
  },
  {
   "cell_type": "markdown",
   "metadata": {},
   "source": [
    "### Plotting results per medical condition"
   ]
  },
  {
   "cell_type": "code",
   "execution_count": null,
   "metadata": {},
   "outputs": [],
   "source": [
    "# Depression\n",
    "depression.plot(marker=\"o\")\n",
    "\n",
    "# Hyperlipidemia\n",
    "hyperlipidemia.plot(marker=\"o\")\n",
    "\n",
    "# Diabetes\n",
    "diabetes.plot(marker=\"o\")\n",
    "\n",
    "# Hypertension\n",
    "htn.plot(marker=\"o\")\n",
    "\n",
    "# Allergies\n",
    "allergies.plot(marker=\"o\")\n",
    "\n",
    "# Thrombolysis\n",
    "throm.plot(marker=\"o\")\n",
    "\n",
    "# Hypersensitivity\n",
    "hypers.plot(marker=\"o\",title= \"Mortality of Heart Failure With & Without Medical Conditions\", xlabel= \"Mortality\", ylabel = \"Number of Patients\")\n",
    "plt.legend(['Depression', 'Hyperlipidemia', 'Diabetes', 'Hypertension', 'Allergies', 'Thrombolysis', \"Hypersensitivity\"])\n"
   ]
  },
  {
   "cell_type": "markdown",
   "metadata": {},
   "source": [
    "### Comparing total patients to the amount of medical conditions patients have to see correlation between Heart Failure with having certain Medical Conditions"
   ]
  },
  {
   "cell_type": "code",
   "execution_count": null,
   "metadata": {},
   "outputs": [],
   "source": [
    "# Full count of Dataset for Heart Failure total\n",
    "number_of_patients = pd.DataFrame(medical_history[['Depression']].count())\n",
    "number_of_patients = number_of_patients.iloc[0, 0]\n",
    "round(number_of_patients)"
   ]
  },
  {
   "cell_type": "code",
   "execution_count": null,
   "metadata": {},
   "outputs": [],
   "source": [
    "# Getting list of a value for Depression\n",
    "depression_total = medical_history[['Depression']]\n",
    "depression_total = pd.DataFrame(depression_total.loc[depression_total['Depression'] == \"YES\", :].count())\n",
    "depression_total = depression_total.iloc[0, 0]\n",
    "depression_total"
   ]
  },
  {
   "cell_type": "code",
   "execution_count": null,
   "metadata": {},
   "outputs": [],
   "source": [
    "# Getting list of the other value for Hyperlipidemia\n",
    "hyperlipi_total = medical_history[['Hyperlipidemia']]\n",
    "hyperlipi_total = pd.DataFrame(hyperlipi_total.loc[hyperlipi_total['Hyperlipidemia'] == \"YES\", :].count())\n",
    "hyperlipi_total = hyperlipi_total.iloc[0, 0]\n",
    "hyperlipi_total"
   ]
  },
  {
   "cell_type": "code",
   "execution_count": null,
   "metadata": {},
   "outputs": [],
   "source": [
    "# Getting list of a value for Diabetes\n",
    "diabetes_total = medical_history[['Diabetes']]\n",
    "diabetes_total = diabetes_total.loc[diabetes_total['Diabetes'] == 1, :]\n",
    "diabetes_total['Diabetes'].replace(1, \"YES\", inplace=True)\n",
    "diabetes_total = pd.DataFrame(diabetes_total.count())\n",
    "diabetes_total = diabetes_total.iloc[0, 0]\n",
    "diabetes_total"
   ]
  },
  {
   "cell_type": "code",
   "execution_count": null,
   "metadata": {},
   "outputs": [],
   "source": [
    "# Getting list of a value for Hypertension\n",
    "htn_total = medical_history[['Hypertension']]\n",
    "htn_total = pd.DataFrame(htn_total.loc[htn_total['Hypertension'] == \"YES\", :].count())\n",
    "htn_total = htn_total.iloc[0, 0]\n",
    "htn_total"
   ]
  },
  {
   "cell_type": "code",
   "execution_count": null,
   "metadata": {},
   "outputs": [],
   "source": [
    "# Getting list of a value for Allergies\n",
    "allergies_total = medical_history[['Allergies']]\n",
    "allergies_total = pd.DataFrame(allergies_total.loc[allergies_total['Allergies'] == \"YES\", :].count())\n",
    "allergies_total = allergies_total.iloc[0, 0]\n",
    "allergies_total"
   ]
  },
  {
   "cell_type": "code",
   "execution_count": null,
   "metadata": {},
   "outputs": [],
   "source": [
    "# Getting list of a value for # Thrombolysis\n",
    "throm_total = medical_history[['Thrombolysis']]\n",
    "throm_total = throm_total.loc[throm_total['Thrombolysis'] == 1, :]\n",
    "throm_total['Thrombolysis'].replace(1, \"YES\", inplace=True)\n",
    "throm_total = pd.DataFrame(throm_total.count())\n",
    "throm_total = throm_total.iloc[0, 0]\n",
    "throm_total"
   ]
  },
  {
   "cell_type": "code",
   "execution_count": null,
   "metadata": {},
   "outputs": [],
   "source": [
    "# Getting list of a value for Hypersensitivity\n",
    "hypers_total = medical_history[['Hypersensitivity']]\n",
    "hypers_total = pd.DataFrame(hypers_total.loc[hypers_total['Hypersensitivity'] == \"YES\", :].count())\n",
    "hypers_total = hypers_total.iloc[0, 0]\n",
    "hypers_total"
   ]
  },
  {
   "cell_type": "code",
   "execution_count": null,
   "metadata": {},
   "outputs": [],
   "source": [
    "# Variables ready for plotting the data\n",
    "medical_conditions = [\"Depression\", \"Hyperlipidemia\", \"Hypertension\", \"Diabetes\", \"Allergies\", \"Thrombolysis\", \"Hypersensitivity\"]\n",
    "amount_conditions = np.arange(len(medical_conditions))\n",
    "patients_conditions = [depression_total, hyperlipi_total,\n",
    "                         htn_total, diabetes_total, allergies_total,\n",
    "                        throm_total, hypers_total]\n",
    "\n"
   ]
  },
  {
   "cell_type": "code",
   "execution_count": null,
   "metadata": {},
   "outputs": [],
   "source": [
    "# Plot the data\n",
    "plt.bar(amount_conditions, patients_conditions , align='center', color='r', alpha=0.7)\n",
    "\n",
    "# Creating the ticks for our bar chart's x axis\n",
    "tick_locations = [value for value in amount_conditions]\n",
    "plt.xticks(tick_locations, medical_conditions, rotation= 45)\n",
    "plt.title(\"Medical Condition within Heart Failure\")\n",
    "plt.show()"
   ]
  },
  {
   "cell_type": "markdown",
   "metadata": {},
   "source": [
    "### Showing Correlation between Age and Cholesterol levels"
   ]
  },
  {
   "cell_type": "code",
   "execution_count": null,
   "metadata": {},
   "outputs": [],
   "source": [
    "# Plotting data\n",
    "x_values = fic_df[\"Age\"]\n",
    "y_values = fic_df[\"Cholesterol\"]\n",
    "(slope, intercept, rvalue, pvalue, stderr) = linregress(x_values, y_values)\n",
    "regress_values = x_values * slope + intercept\n",
    "line_eq = \"y = \" + str(round(slope,2)) + \"x + \" + str(round(intercept,2))\n",
    "plt.scatter(x_values,y_values)\n",
    "plt.xlabel(\"Age\")\n",
    "plt.ylabel(\"Cholesterol\")\n",
    "plt.plot(x_values,regress_values,\"r-\")\n",
    "plt.annotate(line_eq,(5.8,0.8),fontsize=15,color=\"red\")\n",
    "print(rvalue)\n",
    "plt.show()"
   ]
  },
  {
   "cell_type": "markdown",
   "metadata": {},
   "source": [
    "### Showing Mean Cholesterol  between Age and Cholesterol levels"
   ]
  },
  {
   "cell_type": "code",
   "execution_count": null,
   "metadata": {},
   "outputs": [],
   "source": [
    "# Getting mean value of cholesterol levels\n",
    "mean_chol_by_age = fic_df.groupby('Age Group')['Cholesterol'].mean()\n",
    "\n",
    "# Plotting the data\n",
    "plt.plot(mean_chol_by_age.index,mean_chol_by_age,color=\"blue\" )\n",
    "plt.xlabel('Age Group')\n",
    "plt.ylabel('Cholesterol Levels')\n",
    "plt.title('Mean Cholesterol Levels by Heart Failure')\n",
    "plt.show()"
   ]
  },
  {
   "cell_type": "markdown",
   "metadata": {},
   "source": [
    "### Plotting between Depression  and Electrolyte levels"
   ]
  },
  {
   "cell_type": "code",
   "execution_count": null,
   "metadata": {},
   "outputs": [],
   "source": [
    "# Plotting Data\n",
    "plt.figure(figsize=(10, 5))\n",
    "plt.subplot(1, 3, 1)\n",
    "plt.bar(fic_df['Depression'], fic_df['Serum Sodium'], alpha=0.5)\n",
    "plt.ylabel('Sodium Level')\n",
    "plt.xlabel('Depression Status')\n",
    "plt.title('Sodium vs Depression')\n",
    "\n",
    "plt.subplot(1, 3, 2)\n",
    "plt.bar(fic_df['Depression'], fic_df['Serum Chloride'], alpha=0.5)\n",
    "plt.ylabel('Chloride Level')\n",
    "plt.xlabel('Depression Status')\n",
    "plt.title('Chloride vs Depression')\n",
    "\n",
    "plt.subplot(1, 3, 3)\n",
    "plt.bar(fic_df['Depression'], fic_df['Serum Potassium'], alpha=0.5)\n",
    "plt.ylabel('Potassium Level')\n",
    "plt.xlabel('Depression Status')\n",
    "plt.title('Potassium vs Depression')\n",
    "\n",
    "plt.tight_layout()\n",
    "plt.show()"
   ]
  },
  {
   "cell_type": "markdown",
   "metadata": {},
   "source": [
    "### Plotting  between Depression and BP levels"
   ]
  },
  {
   "cell_type": "code",
   "execution_count": null,
   "metadata": {},
   "outputs": [],
   "source": [
    "# Summary Variable for plot\n",
    "summary_statistics = fic_df.groupby(\"Depression\")[\"Blood Pressure\"].agg(['mean', 'median', 'var', 'std', 'sem'])\n",
    "\n",
    "# Plot mean of data\n",
    "plt.bar(summary_statistics.index, summary_statistics['mean'], label='Mean',width=0.7, align='center')\n",
    "plt.xlabel('Depression')\n",
    "plt.ylabel('Blood Pressure')\n",
    "plt.title('Summary Statistics of BP by Depression')\n",
    "plt.xlim(-1, 2)\n",
    "plt.legend()\n",
    "plt.show()"
   ]
  },
  {
   "cell_type": "markdown",
   "metadata": {},
   "source": [
    "### Plotting  between Depression and BGR levels"
   ]
  },
  {
   "cell_type": "code",
   "execution_count": null,
   "metadata": {},
   "outputs": [],
   "source": [
    "# Setting up Summary Variable\n",
    "summary_statistics = fic_df.groupby(\"Depression\")[\"Blood Glucose Level\"].agg(['mean', 'median', 'var', 'std', 'sem'])\n",
    "\n",
    "summary_statistics\n",
    "\n",
    "# Plot mean of data\n",
    "plt.bar(summary_statistics.index, summary_statistics['mean'], label='Mean',width=0.7)\n",
    "\n",
    "plt.xlabel('Depression')\n",
    "plt.ylabel('Blood Glucose Levels')\n",
    "plt.title('Summary Statistics of Blood Glucose Levels by Depression')\n",
    "plt.xlim(-1, 2)\n",
    "plt.tight_layout()\n",
    "plt.legend()\n",
    "plt.show()"
   ]
  },
  {
   "cell_type": "markdown",
   "metadata": {},
   "source": [
    "### Using a boxplot to show potential outliers using Blood Glucose Levels within Age Groups"
   ]
  },
  {
   "cell_type": "code",
   "execution_count": null,
   "metadata": {},
   "outputs": [],
   "source": [
    "# Plotting dataframe \n",
    "fic_df.boxplot(column='Blood Glucose Level', by='Age Group',flierprops=dict(marker='o', markerfacecolor='r', markersize=10))\n",
    "\n",
    "# Adding Labels\n",
    "plt.xlabel('Age Group')\n",
    "plt.ylabel('Blood glucose levels')"
   ]
  },
  {
   "cell_type": "markdown",
   "metadata": {},
   "source": [
    "### Family History of Heart Failure"
   ]
  },
  {
   "cell_type": "code",
   "execution_count": null,
   "metadata": {},
   "outputs": [],
   "source": [
    "# Varibales for plotting data\n",
    "family_history = fic_df['F.History'].value_counts()\n",
    "labels = ['Family History[Yes]', 'Family History[No]']\n",
    "explode = (.1, 0)"
   ]
  },
  {
   "cell_type": "code",
   "execution_count": null,
   "metadata": {},
   "outputs": [],
   "source": [
    "# Plot Data\n",
    "plt.figure(figsize=(10,5))\n",
    "plt.pie(fic_df['F.History'].value_counts(), labels=labels,\n",
    "        autopct='%1.1f%%', shadow=True, explode= explode, startangle=90)\n",
    "plt.title(\"Family History within Heart Failure\")\n",
    "plt.show()"
   ]
  },
  {
   "cell_type": "code",
   "execution_count": null,
   "metadata": {},
   "outputs": [],
   "source": [
    "# Count target variable for gender\n",
    "fic_df[\"Gender\"].value_counts()"
   ]
  },
  {
   "cell_type": "code",
   "execution_count": null,
   "metadata": {},
   "outputs": [],
   "source": [
    "# Creating dataframe\n",
    "pd.crosstab(fic_df[\"F.History\"],fic_df[\"Gender\"])"
   ]
  },
  {
   "cell_type": "code",
   "execution_count": null,
   "metadata": {},
   "outputs": [],
   "source": [
    "# Plotting Dataframe\n",
    "pd.crosstab(fic_df[\"Family History\"],fic_df[\"Gender\"]).plot(kind=\"bar\", width= 1.2)\n",
    "plt.xlim(-1, 2)\n",
    "plt.title(\"Family History of Heart Failure by Gender\")"
   ]
  },
  {
   "cell_type": "markdown",
   "metadata": {},
   "source": [
    "Mortality Rates in US and Other countries"
   ]
  },
  {
   "cell_type": "code",
   "execution_count": null,
   "metadata": {},
   "outputs": [],
   "source": [
    "# Get values within certain columns for mortality\n",
    "death_history = cause_df[['Country/Territory', 'Year',\n",
    "       'Cardiovascular Diseases']]\n",
    "\n",
    "# Showing the new Dataframe\n",
    "death_history.head()"
   ]
  },
  {
   "cell_type": "code",
   "execution_count": null,
   "metadata": {},
   "outputs": [],
   "source": [
    "# Gather mortality count per country\n",
    "\n",
    "## how do i get the country column to only pull in the country desired??\n",
    "US = death_history[['Country/Territory','Year','Cardiovascular Diseases']].value_counts()\n",
    "Brazil = death_history[['Country/Territory','Year','Cardiovascular Diseases']].value_counts()\n",
    "Canada = death_history[['Country/Territory','Year','Cardiovascular Diseases']].value_counts()\n",
    "Afghanistan = death_history[['Country/Territory','Year','Cardiovascular Diseases']].value_counts()\n",
    "\n",
    "US"
   ]
  },
  {
   "cell_type": "code",
   "execution_count": null,
   "metadata": {},
   "outputs": [],
   "source": [
    "# Creating dataframe to pull per-country information\n",
    "df = pd.DataFrame(US)\n",
    "df = df.iloc[:, :-1]\n",
    "df.reset_index().head()"
   ]
  },
  {
   "cell_type": "code",
   "execution_count": null,
   "metadata": {},
   "outputs": [],
   "source": [
    "# Creating Afghanistan dataframe for plot\n",
    "afghan_df = df.loc['Afghanistan']\n",
    "afghan_df = afghan_df.reset_index()\n",
    "afghan_df.head()"
   ]
  },
  {
   "cell_type": "code",
   "execution_count": null,
   "metadata": {},
   "outputs": [],
   "source": [
    "# Creating Canada dataframe for plot\n",
    "canada_df = df.loc['Canada']\n",
    "canada_df = canada_df.reset_index()\n",
    "canada_df.head()"
   ]
  },
  {
   "cell_type": "code",
   "execution_count": null,
   "metadata": {},
   "outputs": [],
   "source": [
    "# Creating Brazil dataframe for plot\n",
    "brazil_df = df.loc['Brazil']\n",
    "brazil_df = brazil_df.reset_index()\n",
    "brazil_df.head()"
   ]
  },
  {
   "cell_type": "code",
   "execution_count": null,
   "metadata": {},
   "outputs": [],
   "source": [
    "# Creating the separate United States Dataframe for plot\n",
    "cardioyear_df = df.loc['United States']\n",
    "cardioyear_df = cardioyear_df.reset_index()\n",
    "cardioyear_df.head()"
   ]
  },
  {
   "cell_type": "code",
   "execution_count": null,
   "metadata": {},
   "outputs": [],
   "source": [
    "# Creating columns as variables for plot\n",
    "us_year = cardioyear_df['Year']\n",
    "us_diseases = cardioyear_df['Cardiovascular Diseases']"
   ]
  },
  {
   "cell_type": "code",
   "execution_count": null,
   "metadata": {},
   "outputs": [],
   "source": [
    "# Plotting the US standalone data\n",
    "plt.scatter(us_year, us_diseases)\n",
    "plt.title('United States vs Caridovascular Disease')\n",
    "plt.ylabel(\"Cardiovascular Disease Count\")\n",
    "plt.xlabel(\"Year\")"
   ]
  },
  {
   "cell_type": "code",
   "execution_count": null,
   "metadata": {},
   "outputs": [],
   "source": [
    "# Creating variables for plot\n",
    "afghan_disease = afghan_df['Cardiovascular Diseases']\n",
    "canada_disease = canada_df['Cardiovascular Diseases']\n",
    "brazil_disease = brazil_df['Cardiovascular Diseases']"
   ]
  },
  {
   "cell_type": "code",
   "execution_count": null,
   "metadata": {},
   "outputs": [],
   "source": [
    "# Plot US vs other countries\n",
    "plt.scatter(us_year, us_diseases)\n",
    "plt.scatter(us_year, afghan_disease)\n",
    "plt.scatter(us_year, canada_disease)\n",
    "plt.scatter(us_year, brazil_disease)\n",
    "\n",
    "# Give our chart some labels and a tile\n",
    "plt.title(\"US vs Other Countries\")\n",
    "plt.legend([\"US\", \"Brazil\", \"Canada\", \"Afghanistan\"])\n",
    "plt.xlabel(\"Year\")\n",
    "plt.ylabel(\"Cardiovascular Disease Count\")\n",
    "plt.show()"
   ]
  },
  {
   "cell_type": "markdown",
   "metadata": {},
   "source": [
    "Mortality in Location and Gender"
   ]
  },
  {
   "cell_type": "code",
   "execution_count": null,
   "metadata": {},
   "outputs": [],
   "source": [
    "# Get values within certain columns for location and gender conditions\n",
    "rural = fic_df[['Locality', 'Gender',\n",
    "       'Age Group', 'Mortality']]\n",
    "\n",
    "# Showing the new Dataframe\n",
    "rural.head()"
   ]
  },
  {
   "cell_type": "code",
   "execution_count": null,
   "metadata": {},
   "outputs": [],
   "source": [
    "# Gather mortality count per location and gender condition\n",
    "Gender = rural[['Gender', 'Mortality']].value_counts()\n",
    "Age_Grp = rural[['Age Group', 'Mortality']].value_counts()\n",
    "Locality = rural[['Locality', 'Mortality']].value_counts()\n",
    "\n",
    "\n",
    "Gender"
   ]
  },
  {
   "cell_type": "code",
   "execution_count": null,
   "metadata": {},
   "outputs": [],
   "source": [
    "# Getting list of the other value for  Rural Locality\n",
    "Rural_total = rural[['Locality']]\n",
    "Rural_total = pd.DataFrame(Rural_total.loc[Rural_total['Locality'] == \"RURAL\", :].count())\n",
    "Rural_total = Rural_total.iloc[0, 0]\n",
    "Rural_total"
   ]
  },
  {
   "cell_type": "code",
   "execution_count": null,
   "metadata": {},
   "outputs": [],
   "source": [
    "# Getting list of the other value for Urban Locality\n",
    "Urban_total = rural[['Locality']]\n",
    "Urban_total = pd.DataFrame(Urban_total.loc[Urban_total['Locality'] == \"URBAN\", :].count())\n",
    "Urban_total = Urban_total.iloc[0, 0]\n",
    "Urban_total"
   ]
  },
  {
   "cell_type": "code",
   "execution_count": null,
   "metadata": {},
   "outputs": [],
   "source": [
    "# Getting list of the other value for Male\n",
    "Male_total = rural[['Gender']]\n",
    "Male_total = pd.DataFrame(Male_total.loc[Male_total['Gender'] == \"Male\", :].count())\n",
    "Male_total = Male_total.iloc[0, 0]\n",
    "Male_total"
   ]
  },
  {
   "cell_type": "code",
   "execution_count": null,
   "metadata": {},
   "outputs": [],
   "source": [
    "# Getting list of the other value for Female\n",
    "Female_total = rural[['Gender']]\n",
    "Female_total = pd.DataFrame(Female_total.loc[Female_total['Gender'] == \"Female\", :].count())\n",
    "Female_total = Female_total.iloc[0, 0]\n",
    "Female_total"
   ]
  },
  {
   "cell_type": "code",
   "execution_count": null,
   "metadata": {},
   "outputs": [],
   "source": [
    "# Getting list of the other value for 31-40 group\n",
    "thirty = rural[['Age Group']]\n",
    "thirty = pd.DataFrame(thirty.loc[thirty['Age Group'] == \"31-40\", :].count())\n",
    "thirty = thirty.iloc[0, 0]\n",
    "thirty"
   ]
  },
  {
   "cell_type": "code",
   "execution_count": null,
   "metadata": {},
   "outputs": [],
   "source": [
    "# Getting list of the other value for 41-50 group\n",
    "fourty = rural[['Age Group']]\n",
    "fourty = pd.DataFrame(fourty.loc[fourty['Age Group'] == \"41-50\", :].count())\n",
    "fourty = fourty.iloc[0, 0]\n",
    "fourty"
   ]
  },
  {
   "cell_type": "code",
   "execution_count": null,
   "metadata": {},
   "outputs": [],
   "source": [
    "# Getting list of the other value for 51-60 group\n",
    "fifty = rural[['Age Group']]\n",
    "fifty = pd.DataFrame(fifty.loc[fifty['Age Group'] == \"51-60\", :].count())\n",
    "fifty = fifty.iloc[0, 0]\n",
    "fifty"
   ]
  },
  {
   "cell_type": "code",
   "execution_count": null,
   "metadata": {},
   "outputs": [],
   "source": [
    "# Getting list of the other value for 61-70 group\n",
    "sixty = rural[['Age Group']]\n",
    "sixty = pd.DataFrame(sixty.loc[sixty['Age Group'] == \"61-70\", :].count())\n",
    "sixty = sixty.iloc[0, 0]\n",
    "sixty"
   ]
  },
  {
   "cell_type": "code",
   "execution_count": null,
   "metadata": {},
   "outputs": [],
   "source": [
    "# Variables ready for plotting the data\n",
    "rural = [\"Urban\", \"Rural\", \"Male\", \"Female\", \"Thirty\", \"Forty\", \"Fifty\", \"Sixty\"]\n",
    "totals = [Urban_total, Rural_total, Male_total, Female_total, thirty, fourty, fifty, sixty]\n",
    "amount = np.arange(len(totals))"
   ]
  },
  {
   "cell_type": "code",
   "execution_count": null,
   "metadata": {},
   "outputs": [],
   "source": [
    "# Plot the data\n",
    "\n",
    "## I am struggling getting this bar graph??\n",
    "\n",
    "plt.bar(amount, totals , align='center', color='r', alpha=0.6)\n",
    "\n",
    "# Creating the ticks for our bar chart's x axis\n",
    "ticks = [value for value in amount]\n",
    "plt.xticks(ticks, rural, rotation= 45)\n",
    "plt.title(\"Mortality based on Region by Gender\")\n",
    "plt.show()"
   ]
  }
 ],
 "metadata": {
  "kernelspec": {
   "display_name": "PythonData_2024",
   "language": "python",
   "name": "python3"
  },
  "language_info": {
   "codemirror_mode": {
    "name": "ipython",
    "version": 3
   },
   "file_extension": ".py",
   "mimetype": "text/x-python",
   "name": "python",
   "nbconvert_exporter": "python",
   "pygments_lexer": "ipython3",
   "version": "3.12.3"
  }
 },
 "nbformat": 4,
 "nbformat_minor": 2
}
