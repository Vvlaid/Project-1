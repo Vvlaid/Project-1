{
 "cells": [
  {
   "cell_type": "code",
   "execution_count": null,
   "metadata": {},
   "outputs": [],
   "source": [
    "# Import Dependencies \n",
    "import matplotlib.pyplot as plt\n",
    "import numpy as np\n",
    "import pandas as pd"
   ]
  },
  {
   "cell_type": "code",
   "execution_count": null,
   "metadata": {},
   "outputs": [],
   "source": [
    "# Creating dataframes\n",
    "fic_df = pd.read_csv(\"Resources/FIC.Full CSV.csv\")\n",
    "cause_df = pd.read_csv(\"Resources/cause_of_deaths.csv\")\n",
    "\n",
    "fic_df.head()"
   ]
  },
  {
   "cell_type": "code",
   "execution_count": null,
   "metadata": {},
   "outputs": [],
   "source": [
    "# Get dataframe columns\n",
    "fic_df.columns"
   ]
  },
  {
   "cell_type": "code",
   "execution_count": null,
   "metadata": {},
   "outputs": [],
   "source": [
    "# Get unique values within the 'Diagnosis' column\n",
    "fic_df[\"Diagnosis\"].unique()"
   ]
  },
  {
   "cell_type": "code",
   "execution_count": null,
   "metadata": {},
   "outputs": [],
   "source": [
    "# Clean columns by renaming certain columns for easier legibility\n",
    "fic_df.rename(columns={\"Age.Group\": \"Age Group\",\"Marital status                       \": \"Marital Status\",\n",
    "                       \"Life.Style                                                                              \": \"Life Style\",\n",
    "                       \"oldpeak\": \"Old Peak\", \"slope\": \"Slope\", \"Family.History\": \"Family History\",\n",
    "                       \"PLATELET_COUNT\": \"Platelet Count\", \"Follow.Up\": \"Follow Up\"},\n",
    "                       inplace=True,)\n",
    "fic_df"
   ]
  },
  {
   "cell_type": "code",
   "execution_count": null,
   "metadata": {},
   "outputs": [],
   "source": []
  }
 ],
 "metadata": {
  "kernelspec": {
   "display_name": "PythonData_2024",
   "language": "python",
   "name": "python3"
  },
  "language_info": {
   "codemirror_mode": {
    "name": "ipython",
    "version": 3
   },
   "file_extension": ".py",
   "mimetype": "text/x-python",
   "name": "python",
   "nbconvert_exporter": "python",
   "pygments_lexer": "ipython3",
   "version": "3.12.3"
  }
 },
 "nbformat": 4,
 "nbformat_minor": 2
}
